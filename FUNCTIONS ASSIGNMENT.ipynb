{
 "cells": [
  {
   "cell_type": "markdown",
   "id": "790763ba-7da3-464e-9dae-d6dd84c273c1",
   "metadata": {},
   "source": [
    "## Functions Assignment"
   ]
  },
  {
   "cell_type": "markdown",
   "id": "195aed6e-e967-41de-8e1d-347cbb93a9e1",
   "metadata": {},
   "source": [
    "Q1. Which keyword is used to create a function? Create a function to\n",
    "return a list of odd numbers in the range of 1 to 25.\n",
    "\n",
    "A.\"def\" is the keyword used to create a function"
   ]
  },
  {
   "cell_type": "code",
   "execution_count": 1,
   "id": "96d133c9-5528-4126-9b50-c98eda8d440c",
   "metadata": {},
   "outputs": [
    {
     "name": "stdout",
     "output_type": "stream",
     "text": [
      "[1, 3, 5, 7, 9, 11, 13, 15, 17, 19, 21, 23, 25]\n"
     ]
    }
   ],
   "source": [
    "def odd_nums(o):\n",
    "    n=[]\n",
    "    for i in range(1,o+1):\n",
    "        if i%2!=0:\n",
    "             n.append(i)\n",
    "    return n\n",
    "odd_list = odd_nums(25)\n",
    "print(odd_list)"
   ]
  },
  {
   "cell_type": "markdown",
   "id": "9aec9a79-c0e0-4f46-ab48-b475cab626fb",
   "metadata": {},
   "source": [
    "Q2. Why *args and **kwargs is used in some functions? Create a function\n",
    "each for *args and **kwargs to demonstrate their use.\n",
    "\n",
    "A.args is used to pass a variable number of non-keyworded arguments to a function. The symbol in front of args tells Python to treat it as a variable-length\n",
    "argument list. These arguments are packed into a tuple, which the function can\n",
    "then iterate over.\n",
    "\n",
    "kwargs, on the other hand, is used to pass a variable number of keyword arguments to a function. The symbol in front of kwargs tells Python to treat it\n",
    "as a dictionary of key-value pairs. The keys are the argument names and the\n",
    "values are the argument values."
   ]
  },
  {
   "cell_type": "code",
   "execution_count": 2,
   "id": "3987a3db-8f6b-48e0-a218-07c0b6ea4d15",
   "metadata": {},
   "outputs": [
    {
     "name": "stdout",
     "output_type": "stream",
     "text": [
      "10\n"
     ]
    }
   ],
   "source": [
    "def sum_numbers(*args):##args example\n",
    "    total = 0\n",
    "    for num in args:\n",
    "         total += num\n",
    "    return total\n",
    "sum = sum_numbers(1,2,3,4)\n",
    "print(sum)\n"
   ]
  },
  {
   "cell_type": "code",
   "execution_count": 3,
   "id": "b0f59363-4a70-4bc2-91f2-dd3dce1694fe",
   "metadata": {},
   "outputs": [
    {
     "name": "stdout",
     "output_type": "stream",
     "text": [
      "firstname == Sripada\n",
      "middlename == Rao\n",
      "lastname == Agali\n"
     ]
    }
   ],
   "source": [
    "def myFun(**kwargs):\n",
    "    for key, value in kwargs.items():\n",
    "        print(\"%s == %s\" % (key, value))\n",
    "\n",
    "myFun(firstname='Sripada', middlename='Rao', lastname='Agali')"
   ]
  },
  {
   "cell_type": "markdown",
   "id": "95b5e87c-396b-454d-85a4-2e8f6404e8cc",
   "metadata": {},
   "source": [
    "Q3. What is an iterator in python? Name the method used to initialise\n",
    "the iterator object and the method used for iteration. Use these methods\n",
    "to print the first five elements of the given list [2,4,6,8,10,12,14,16,18,20]\n",
    "\n",
    "A.  An iterator is an object that implements the iterator protocol, which consists\n",
    "of two methods: iter() and next().\n",
    "\n",
    "The iter() method is used to initialize the iterator object and return it. The\n",
    "next() method is used to iterate through the elements of the iterator and return\n",
    "the next element. When there are no more elements to return, it raises the\n",
    "StopIteration exception."
   ]
  },
  {
   "cell_type": "code",
   "execution_count": 5,
   "id": "19aa33a3-4bd4-496c-9969-405c248966f4",
   "metadata": {},
   "outputs": [
    {
     "name": "stdout",
     "output_type": "stream",
     "text": [
      "12\n",
      "14\n",
      "26\n",
      "38\n",
      "50\n"
     ]
    }
   ],
   "source": [
    "lst = [12, 14, 26, 38, 50, 12, 14, 76, 18, 20]\n",
    "# Initializing the iterator object\n",
    "iter_lst = iter(lst)\n",
    "# Iterate through the first five elements\n",
    "for i in range(5):\n",
    "     print(next(iter_lst))"
   ]
  },
  {
   "cell_type": "markdown",
   "id": "00ffd800-70c6-4192-8f04-1f8e491229a1",
   "metadata": {},
   "source": [
    "Q4. What is a generator function in python? Why yield keyword is used?\n",
    "Give an example of a generator function.\n",
    "\n",
    "A.A generator function in Python is a special type of function that allows us\n",
    "to generate a sequence of values on the fly, without the need to generate them\n",
    "all at once and store them in memory.\n",
    "\n",
    "The yield keyword is used in generator functions to specify where to pause\n",
    "and resume the generation of values. When a yield statement is executed, the\n",
    "function’s state is frozen, and the yielded value is returned to the caller. The\n",
    "next time the generator function is called, it resumes execution from where it\n",
    "left off, continuing until the next yield statement is encountered.\n"
   ]
  },
  {
   "cell_type": "code",
   "execution_count": 6,
   "id": "b6ef45f8-f2e7-4d0b-945b-72a197691a93",
   "metadata": {},
   "outputs": [
    {
     "name": "stdout",
     "output_type": "stream",
     "text": [
      "0\n",
      "1\n",
      "2\n",
      "3\n",
      "4\n",
      "5\n",
      "6\n",
      "7\n",
      "8\n",
      "9\n"
     ]
    }
   ],
   "source": [
    "def my_generator(n):\n",
    "    i = 0\n",
    "    while i < n:\n",
    "        yield i\n",
    "        i += 1\n",
    "for num in my_generator(10):\n",
    "    print(num)"
   ]
  },
  {
   "cell_type": "markdown",
   "id": "0912a730-2933-4cb4-87b2-3c870f937cd8",
   "metadata": {},
   "source": [
    "Q5. Create a generator function for prime numbers less than 1000. Use\n",
    "the next() method to print the first 20 prime numbers.\n",
    "\n",
    "A."
   ]
  },
  {
   "cell_type": "code",
   "execution_count": 7,
   "id": "0e2cc9d3-4ded-41fb-a9f5-58c60a4bf25c",
   "metadata": {},
   "outputs": [
    {
     "name": "stdout",
     "output_type": "stream",
     "text": [
      "3\n",
      "5\n",
      "7\n",
      "11\n",
      "13\n",
      "17\n",
      "19\n",
      "23\n",
      "29\n",
      "31\n",
      "37\n",
      "41\n",
      "43\n",
      "47\n",
      "53\n",
      "59\n",
      "61\n",
      "67\n",
      "71\n",
      "73\n"
     ]
    }
   ],
   "source": [
    "def generate_primeno():\n",
    "\n",
    "    primeno = [2] \n",
    "    num = 3 # Start checking for primes from 3.\n",
    "    while num < 1000:\n",
    "         if all(num % prime != 0 for prime in primeno):\n",
    "             primeno.append(num)\n",
    "             yield num\n",
    "         num += 2 \n",
    "\n",
    "prime_gen = generate_primeno()\n",
    "\n",
    "for _ in range(20):\n",
    "    print(next(prime_gen))"
   ]
  },
  {
   "cell_type": "code",
   "execution_count": null,
   "id": "be4e7f7e-b17c-4d7c-aad1-6326c33d73b7",
   "metadata": {},
   "outputs": [],
   "source": []
  }
 ],
 "metadata": {
  "kernelspec": {
   "display_name": "Python 3 (ipykernel)",
   "language": "python",
   "name": "python3"
  },
  "language_info": {
   "codemirror_mode": {
    "name": "ipython",
    "version": 3
   },
   "file_extension": ".py",
   "mimetype": "text/x-python",
   "name": "python",
   "nbconvert_exporter": "python",
   "pygments_lexer": "ipython3",
   "version": "3.10.8"
  }
 },
 "nbformat": 4,
 "nbformat_minor": 5
}
