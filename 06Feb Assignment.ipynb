{
 "cells": [
  {
   "cell_type": "markdown",
   "id": "45b3cead-fce2-40cb-883a-10b1baee0b60",
   "metadata": {},
   "source": [
    "1.Create a function which will take a list as an argument and return the product of all the numbers\n",
    "after creating a flat list.\n",
    "Use the below-given list as an argument for your function."
   ]
  },
  {
   "cell_type": "code",
   "execution_count": 3,
   "id": "0b58b87b-2735-48ed-83e1-b5452cec1b39",
   "metadata": {},
   "outputs": [],
   "source": [
    "def is_integer(x):\n",
    "    return not isinstance(x, bool) and isinstance(x, int)\n",
    "\n",
    "def get_numbers(o):\n",
    "    if isinstance(o, dict):\n",
    "        for k, v in o.items():\n",
    "            if is_integer(k):\n",
    "                yield k\n",
    "            yield from get_numbers(v)\n",
    "    elif isinstance(o, (list, tuple, set)):\n",
    "        for v in o:\n",
    "            if is_integer(v):\n",
    "                yield v\n",
    "            else:\n",
    "                yield from get_numbers(v)\n",
    "    else:\n",
    "        if is_integer(o):\n",
    "            yield o\n",
    "            \n",
    "list1 = [\n",
    "    1,\n",
    "    2,\n",
    "    3,\n",
    "    4,\n",
    "    [44, 55, 66, True],\n",
    "    False,\n",
    "    (34, 56, 78, 89, 34),\n",
    "    {1, 2, 3, 3, 2, 1},\n",
    "    {1: 34, \"key2\": [55, 67, 78, 89], 4: (45, 22, 61, 34)},\n",
    "    [56, \"data science\"],\n",
    "    \"Machine Learning\",\n",
    "]           "
   ]
  },
  {
   "cell_type": "code",
   "execution_count": 4,
   "id": "29617a2c-d15e-4ee0-8314-b7a348190ffd",
   "metadata": {},
   "outputs": [
    {
     "name": "stdout",
     "output_type": "stream",
     "text": [
      "[1, 2, 3, 4, 44, 55, 66, 34, 56, 78, 89, 34, 1, 2, 3, 1, 34, 55, 67, 78, 89, 4, 45, 22, 61, 34, 56]\n",
      "4134711838987085478833841242112000\n"
     ]
    }
   ],
   "source": [
    "z=[]\n",
    "z=list(get_numbers(list1))\n",
    "\n",
    "print(z)\n",
    "from functools import reduce\n",
    "    \n",
    "print(reduce(lambda x,y:x*y,z))"
   ]
  },
  {
   "cell_type": "markdown",
   "id": "0948162e-ad2f-46a9-9f19-7ce2fe9e352e",
   "metadata": {},
   "source": [
    "Q2. Write a python program for encrypting a message sent to you by your friend. The logic of encryption\n",
    "should be such that, for a the output should be z. For b, the output should be y. For c, the output should\n",
    "be x respectively. Also, the whitespace should be replaced with a dollar sign. Keep the punctuation\n",
    "marks unchanged."
   ]
  },
  {
   "cell_type": "code",
   "execution_count": 5,
   "id": "d4ac76f2-16e1-4281-a29a-803dbe8f26c8",
   "metadata": {},
   "outputs": [],
   "source": [
    "def encryption(message):\n",
    "    message=message.lower()\n",
    "    encr_map={'a': 'z', 'b': 'y', 'c': 'x', 'd': 'w', 'e': 'v', 'f': 'u',\n",
    "                      'g': 't', 'h': 's', 'i': 'r', 'j': 'q', 'k': 'p', 'l': 'o',\n",
    "                      'm': 'n', 'n': 'm', 'o': 'l', 'p': 'k', 'q': 'j', 'r': 'i',\n",
    "                      's': 'h', 't': 'g', 'u': 'f', 'v': 'e', 'w': 'd', 'x': 'c',\n",
    "                      'y': 'b', 'z': 'a', ' ': '$'}\n",
    "    encr_message=\"\"\n",
    "    for letter in message:\n",
    "        if letter in encr_map:\n",
    "            encr_message=encr_message+encr_map[letter]\n",
    "            \n",
    "        else:\n",
    "            encr_msg=letter\n",
    "    return encr_message"
   ]
  },
  {
   "cell_type": "code",
   "execution_count": 6,
   "id": "5b65a70e-76b5-4f09-b1d4-d30f7a4387e3",
   "metadata": {},
   "outputs": [
    {
     "data": {
      "text/plain": [
       "'r$dzmg$gl$yvxlnv$z$wzgz$hxrvmgrhg'"
      ]
     },
     "execution_count": 6,
     "metadata": {},
     "output_type": "execute_result"
    }
   ],
   "source": [
    "encryption(\"I want to become a data scientist\")"
   ]
  },
  {
   "cell_type": "code",
   "execution_count": null,
   "id": "9f5784c2-4a31-41c4-8a8e-384e3dfe7d3d",
   "metadata": {},
   "outputs": [],
   "source": []
  }
 ],
 "metadata": {
  "kernelspec": {
   "display_name": "Python 3 (ipykernel)",
   "language": "python",
   "name": "python3"
  },
  "language_info": {
   "codemirror_mode": {
    "name": "ipython",
    "version": 3
   },
   "file_extension": ".py",
   "mimetype": "text/x-python",
   "name": "python",
   "nbconvert_exporter": "python",
   "pygments_lexer": "ipython3",
   "version": "3.10.8"
  }
 },
 "nbformat": 4,
 "nbformat_minor": 5
}
