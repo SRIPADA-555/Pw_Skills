{
 "cells": [
  {
   "cell_type": "markdown",
   "id": "fc1a3641-e1e8-41e6-8b2d-2199b1f7973e",
   "metadata": {},
   "source": [
    "1. Who developed Python Programming Language?\n",
    "\n",
    "Ans. Guido van Rossum developed the Python programming language, which was released as\n",
    "Python 0.9.0 on 20 February 1991."
   ]
  },
  {
   "cell_type": "markdown",
   "id": "8d101cd1-dce9-4b4d-bb26-2cde609ef45c",
   "metadata": {},
   "source": [
    "2. Which type of Programming does python support?\n",
    "\n",
    "\n",
    "Ans. Python supports a multi-paradigm programming language. Which has some features that\n",
    "make it a multi-paradigm programming language.\n",
    "\n",
    "1. Uses immutable data \n",
    "\n",
    "2. It is very easy to write bug-free code \n",
    "\n",
    "3. Easier to read and understand\n",
    "\n",
    "4. Less prone to logical error \n",
    "\n",
    "5. Errors are more easily found \n",
    "\n",
    "6. Makes the program easy to understand as well as efficient"
   ]
  },
  {
   "cell_type": "markdown",
   "id": "738b2c92-e0bb-44d8-b95b-5d5da1ccaa8e",
   "metadata": {},
   "source": [
    "3. Is Python Case Sensitive when dealing with identifiers?\n",
    "\n",
    "Ans. Yes, Python is a case sensitive language, as it treats uppercase and lowercase characters\n",
    "differently.\n",
    "\n",
    "\n",
    "For Example, In Python, \"Ram\" and \"ram\" are treated as two different words, because the 'R' in\n",
    "\"Ram\" is uppercase and the 'r' in \"ram\" is lowercase, even though they are the same word.\n"
   ]
  },
  {
   "cell_type": "markdown",
   "id": "b43693b9-3fb3-48be-9ae4-2b07dca3bd1f",
   "metadata": {},
   "source": [
    "4. What is the correct extension of the Python file?\n",
    "\n",
    "Ans. The correct extension is the Python file .py\n"
   ]
  },
  {
   "cell_type": "markdown",
   "id": "2c99a050-8d20-4864-9537-868e10197049",
   "metadata": {},
   "source": [
    "5. Is Python code compiled or interpreted?\n",
    "\n",
    "\n",
    "Ans. Python code is interpreted as it reads the statement line-by-line and then returns the result."
   ]
  },
  {
   "cell_type": "markdown",
   "id": "9317730c-2bd2-4fc4-b495-04fe362e4c35",
   "metadata": {},
   "source": [
    "6. Name a few blocks of code used to define in Python language?\n",
    "\n",
    "Ans. Indentation is used in Python to define a block of code, which is a piece of Python program\n",
    "text that is executed as a unit."
   ]
  },
  {
   "cell_type": "markdown",
   "id": "c165a86c-3abd-4740-9ea5-480a7ee393cc",
   "metadata": {},
   "source": [
    "7. State a character used to give single-line comments in Python?\n",
    "\n",
    "Ans. Hash(#) is used for single-line comments in Python."
   ]
  },
  {
   "cell_type": "markdown",
   "id": "8f912a6b-c857-4fbc-8421-f6c0d2fdf3c0",
   "metadata": {},
   "source": [
    "8. Mention functions which can help us to find the version of python that we are currently\n",
    "working on?\n",
    "\n",
    "Ans. sys. version can help us find the version of python we are currently working on. This is a\n",
    "string containing the build number and compiler information.\n"
   ]
  },
  {
   "cell_type": "markdown",
   "id": "8d27e3a5-48e7-4255-abb7-88d6f068548c",
   "metadata": {},
   "source": [
    "9. Python supports the creation of anonymous functions at runtime, using a construct called\n",
    "______\n",
    "\n",
    "\n",
    "Ans. Python supports the creation of anonymous functions at runtime, using a construct called\n",
    "lambda.\n"
   ]
  },
  {
   "cell_type": "markdown",
   "id": "e49f54df-d5d1-4f36-8263-72ad541aa691",
   "metadata": {},
   "source": [
    "10. What does pip stand for python?\n",
    "\n",
    "\n",
    "Ans. pip stands for 'preferred installer program'. It is a command-line utility that installs,\n",
    "reinstalls or uninstalls PyPI packages with one simple command.\n"
   ]
  },
  {
   "cell_type": "markdown",
   "id": "25b4ae5c-4848-4012-a6b8-45217a4923db",
   "metadata": {},
   "source": [
    "11. Mention a few built-in functions in python?\n",
    "\n",
    "Ans. Python has many built-in functions. Some functions are given below.\n",
    "\n",
    "1. print() : Prints to the standard output device.\n",
    "2. type() : Returns the type of specified object.\n",
    "3. len() : Returns the number of items in an object.\n",
    "4. bool() : Returns the boolean value of a specified object.\n",
    "5. sum() : The sum of all items in an iterable.\n",
    "6. count() : Returns the number of times an item appears in a list.\n",
    "7. dict() : Creates a dictionary\n",
    "8. float() : Returns a floating point number\n",
    "9. str() : Returns a string object\n",
    "10. set() : Returns a new set object\n",
    "11. slice(): Returns a slice object\n"
   ]
  },
  {
   "cell_type": "markdown",
   "id": "bcfb02fd-31a6-4582-b9e5-ff967ba3b0f1",
   "metadata": {},
   "source": [
    "12. What is the maximum possible length of an identifier in Python?\n",
    "\n",
    "Ans. An identifier can have a maximum length of 79 characters in Python"
   ]
  },
  {
   "cell_type": "markdown",
   "id": "4912bc19-63f8-4bfc-bd99-8df8fcd18f07",
   "metadata": {},
   "source": [
    "13. What are the benefits of using Python?\n",
    "\n",
    "Ans.  the benefits of using Python which are as follows:-\n",
    "1. Easy to learn\n",
    "2. Simple\n",
    "3. clean\n",
    "4. Interpreter\n",
    "5. Portable\n",
    "6. Extensive Library\n",
    "7. Write less do more"
   ]
  },
  {
   "cell_type": "code",
   "execution_count": null,
   "id": "906ea0cb-b683-4e15-97ff-146fd29dc4f6",
   "metadata": {},
   "outputs": [],
   "source": []
  }
 ],
 "metadata": {
  "kernelspec": {
   "display_name": "Python 3 (ipykernel)",
   "language": "python",
   "name": "python3"
  },
  "language_info": {
   "codemirror_mode": {
    "name": "ipython",
    "version": 3
   },
   "file_extension": ".py",
   "mimetype": "text/x-python",
   "name": "python",
   "nbconvert_exporter": "python",
   "pygments_lexer": "ipython3",
   "version": "3.10.8"
  }
 },
 "nbformat": 4,
 "nbformat_minor": 5
}
