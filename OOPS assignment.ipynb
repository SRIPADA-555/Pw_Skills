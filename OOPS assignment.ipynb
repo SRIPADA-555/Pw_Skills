{
 "cells": [
  {
   "cell_type": "markdown",
   "id": "a43e6c34-538a-4b53-89d9-ae7c845eab62",
   "metadata": {},
   "source": [
    "Q1. Explain Class and Object with respect to Object-Oriented Programming. Give a suitable example.\n",
    "\n",
    "A.A class is considered as a blueprint of objects.\n",
    "\n",
    "Example:\n",
    "class ClassName:\n",
    "    # class definition \n",
    "    \n",
    "An object is called an instance of a class. For example, suppose Bike is a class then we can create objects like bike1, bike2, etc from the class."
   ]
  },
  {
   "cell_type": "code",
   "execution_count": 2,
   "id": "e675cc09-8e0b-436c-ac9c-a18c2c7f4b22",
   "metadata": {},
   "outputs": [],
   "source": [
    "##object example\n",
    "   \n",
    "##creating class\n",
    "class Bike:\n",
    "    name = \"\"\n",
    "    gear = 0\n",
    "\n",
    "#creating object\n",
    "bike1 = Bike()    "
   ]
  },
  {
   "cell_type": "markdown",
   "id": "60c872d2-f678-4686-9fad-c9ee8eaca8d8",
   "metadata": {},
   "source": [
    "Q2. Name the four pillars of OOPs.\n",
    "\n",
    "A.The Four Pillars of Object Oriented Programming\n",
    "Abstraction.\n",
    "Encapsulation.\n",
    "Inheritance.\n",
    "Polymorphism."
   ]
  },
  {
   "cell_type": "markdown",
   "id": "e4121e10-1d71-44e4-8daa-7e1c11e4113d",
   "metadata": {},
   "source": [
    "Q3. Explain why the __init__() function is used. Give a suitable example.\n",
    "\n",
    "A.All classes have a function called __init__(), which is always executed when the class is being initiated.\n",
    "\n",
    "Use the __init__() function to assign values to object properties, or other operations that are necessary to do when the object is being created:"
   ]
  },
  {
   "cell_type": "code",
   "execution_count": 6,
   "id": "f1c9d218-43a0-45df-966c-4721aeaedb7a",
   "metadata": {},
   "outputs": [
    {
     "name": "stdout",
     "output_type": "stream",
     "text": [
      "sripada\n",
      "22\n"
     ]
    }
   ],
   "source": [
    "class Person:\n",
    "  def __init__(self, name, age):\n",
    "    self.name = name\n",
    "    self.age = age\n",
    "\n",
    "p1 = Person(\"sripada\", 22)\n",
    "\n",
    "print(p1.name)\n",
    "print(p1.age)"
   ]
  },
  {
   "cell_type": "markdown",
   "id": "91258fa0-c170-4158-9035-c544be232295",
   "metadata": {},
   "source": [
    "Q4. Why self is used in OOPs?\n",
    "\n",
    "A.The use of self makes it easier to distinguish between instance attributes (and methods) from local variables."
   ]
  },
  {
   "cell_type": "markdown",
   "id": "483c275e-d686-49b1-91d0-929c82db5c6d",
   "metadata": {},
   "source": [
    "Q5. What is inheritance? Give an example for each type of inheritance.\n",
    "\n",
    "A.Inheritance allows us to define a class that inherits all the methods and properties from another class.\n",
    "\n",
    "Parent class is the class being inherited from, also called base class.\n",
    "\n",
    "Child class is the class that inherits from another class, also called derived class.\n",
    "\n",
    "There are 3 types of inheritence:\n",
    "1.Single\n",
    "2.Multi level inheritence\n",
    "3.\n"
   ]
  },
  {
   "cell_type": "code",
   "execution_count": 7,
   "id": "c1f024e3-7798-4934-b0ec-9ccdc4c1dd52",
   "metadata": {},
   "outputs": [
    {
     "name": "stdout",
     "output_type": "stream",
     "text": [
      "dog barking\n",
      "Animal Speaking\n"
     ]
    }
   ],
   "source": [
    "##single inheritence\n",
    "\n",
    "class Animal:  \n",
    "    def speak(self):  \n",
    "        print(\"Animal Speaking\")  \n",
    "#child class Dog inherits the base class Animal  \n",
    "class Dog(Animal):  \n",
    "    def bark(self):  \n",
    "        print(\"dog barking\")  \n",
    "d = Dog()  \n",
    "d.bark()  \n",
    "d.speak()  "
   ]
  },
  {
   "cell_type": "code",
   "execution_count": null,
   "id": "6c102f2f-8ab7-43a6-ab6b-3f0b7292e03d",
   "metadata": {},
   "outputs": [],
   "source": [
    "##"
   ]
  }
 ],
 "metadata": {
  "kernelspec": {
   "display_name": "Python 3 (ipykernel)",
   "language": "python",
   "name": "python3"
  },
  "language_info": {
   "codemirror_mode": {
    "name": "ipython",
    "version": 3
   },
   "file_extension": ".py",
   "mimetype": "text/x-python",
   "name": "python",
   "nbconvert_exporter": "python",
   "pygments_lexer": "ipython3",
   "version": "3.10.8"
  }
 },
 "nbformat": 4,
 "nbformat_minor": 5
}
