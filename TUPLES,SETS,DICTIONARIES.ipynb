{
 "cells": [
  {
   "cell_type": "markdown",
   "id": "7540259f-2f27-4079-b621-0a06a5d707d8",
   "metadata": {},
   "source": [
    "# Tuples,sets and dictinary assignment"
   ]
  },
  {
   "cell_type": "markdown",
   "id": "d2afbc9b-d1eb-4b82-9b87-5e566bb7735c",
   "metadata": {},
   "source": [
    "1.What are the characteristics of the tuples? Is tuple Immutable?\n",
    "\n",
    "Tuples are immutable.\n",
    "\n",
    "Characteristics of the tuples are:\n",
    "1.Tuples are immutable\n",
    "2.Tuples are indexed\n",
    "3.They are ordered\n",
    "4.They can contain duplicate items"
   ]
  },
  {
   "cell_type": "markdown",
   "id": "b09b061a-3d75-4ba8-ba03-b9fe9b4d801d",
   "metadata": {},
   "source": [
    "2.What are the two tuple methods in python? Give an example of each method.\n",
    "Give a reason why tuples have only two in-built methods as compared to Lists.\n",
    "\n",
    "The two tuple methods in python are count() and index().Tuples have only two in-built methods because of the property of immutability"
   ]
  },
  {
   "cell_type": "code",
   "execution_count": 2,
   "id": "755c76d2-0e6d-4c7d-9387-4b610213977c",
   "metadata": {},
   "outputs": [
    {
     "data": {
      "text/plain": [
       "1"
      ]
     },
     "execution_count": 2,
     "metadata": {},
     "output_type": "execute_result"
    }
   ],
   "source": [
    "#example for count()method\n",
    "a=(14,15,18,1,22)\n",
    "a.count(15)"
   ]
  },
  {
   "cell_type": "code",
   "execution_count": 4,
   "id": "6d641a68-1063-4c6c-9377-8702dfb7660e",
   "metadata": {},
   "outputs": [
    {
     "data": {
      "text/plain": [
       "4"
      ]
     },
     "execution_count": 4,
     "metadata": {},
     "output_type": "execute_result"
    }
   ],
   "source": [
    "#example for index()method \n",
    "a.index(22)"
   ]
  },
  {
   "cell_type": "markdown",
   "id": "6485b1e2-5e41-4593-9ca4-9f320eabbfdc",
   "metadata": {},
   "source": [
    "3.Which collection datatypes in python do not allow duplicate items? Write a\n",
    "code using a set to remove duplicates from the given list.\n",
    "\n",
    "List = [1, 1, 1, 2, 1, 3, 1, 4, 2, 1, 2, 2, 2, 3, 2, 4, 3, 1, 3, 2, 3, 3, 3, 4, 4, 1, 4, 2,\n",
    "4, 3, 4, 4]\n",
    "\n",
    "In Python, there are two collection data types that do not allow duplicate items:\n",
    "1.sets\n",
    "2.dictionaries.\n",
    "Sets are unordered collections of unique elements.a set can store only one instance\n",
    "of a particular value, and duplicates are not allowed.\n",
    "\n",
    "Dictionaries, on the other hand, are unordered collections of key-value pairs, where each key must\n",
    "be unique.\n"
   ]
  },
  {
   "cell_type": "code",
   "execution_count": 9,
   "id": "d01211eb-82de-4d14-a55d-00981f9dcf64",
   "metadata": {},
   "outputs": [],
   "source": [
    "dList = [1, 1, 1, 2, 1, 3, 1, 4, 2, 1, 2, 2, 2, 3, 2, 4, 3, 1, 3, 2, 3, 3, 3, 4, 4, 1, 4, 2, 4, 3, 4, 4]"
   ]
  },
  {
   "cell_type": "code",
   "execution_count": 10,
   "id": "2aff690d-5a9e-4191-a7fb-215bcd105a38",
   "metadata": {},
   "outputs": [
    {
     "data": {
      "text/plain": [
       "[1, 2, 3, 4]"
      ]
     },
     "execution_count": 10,
     "metadata": {},
     "output_type": "execute_result"
    }
   ],
   "source": [
    "list(set(dList))"
   ]
  },
  {
   "cell_type": "markdown",
   "id": "e9a8d613-608c-44b4-9cbd-13b81e3256e3",
   "metadata": {},
   "source": [
    "4.Explain the difference between the union() and update() methods for a set.\n",
    " Give an example of each method.\n",
    "\n",
    "\n",
    "The \"union()\" and \"update()\" methods are used to combine two or more sets in Python. However,\n",
    "they differ in the way they handle duplicates and the return value.\n",
    "\n",
    "The \"union()\" method returns a new set that contains all the elements of the original set and all\n",
    "the elements of the set(s) that are being combined with the original set. The original set remains\n",
    "unchanged. The duplicates are kept in the resulting set, which means that if an element appears\n",
    "more than once in the original set or in the set(s) being combined, it will appear only once in the\n",
    "resulting set.\n",
    "\n",
    "The \"update()\" method, on the other hand, updates the original set by adding all the elements of the\n",
    "set(s) that are being combined with the original set. The duplicates are removed, so if an element\n",
    "2 appears more than once in the set(s) being combined, it will appear only once in the updated set.\n",
    "The updated set is returned."
   ]
  },
  {
   "cell_type": "code",
   "execution_count": 16,
   "id": "dc308d6a-2432-45bc-9d29-01d50b001cb9",
   "metadata": {},
   "outputs": [
    {
     "name": "stdout",
     "output_type": "stream",
     "text": [
      "{1, 2, 3, 4, 5}\n"
     ]
    }
   ],
   "source": [
    "#Union Method\n",
    "set1 = {1, 2, 2,3}\n",
    "set2 = {2,3, 4, 5}\n",
    "set3 = set1.union(set2)\n",
    "print(set3)"
   ]
  },
  {
   "cell_type": "code",
   "execution_count": 17,
   "id": "346c6e0c-033f-40aa-ba2f-517cf0f96d41",
   "metadata": {},
   "outputs": [
    {
     "name": "stdout",
     "output_type": "stream",
     "text": [
      "{1, 2, 3, 4, 5, 6, 7}\n"
     ]
    }
   ],
   "source": [
    "#update Method\n",
    "set1 = {1,2,3}\n",
    "set2 = {2,3,5,4,5,6,7}\n",
    "set1.update(set2)\n",
    "print(set1)"
   ]
  },
  {
   "cell_type": "markdown",
   "id": "4c30fd84-d7e6-4adb-bca4-0741369e8551",
   "metadata": {},
   "source": [
    "5.What is a dictionary? Give an example. Also, state whether a dictionary is\n",
    "ordered or unordered.\n",
    "\n",
    "A dictionary is a collection of key-value pairs, where each key is unique and maps to a corresponding\n",
    "value. In programming, dictionaries are used to store values that can be looked up efficiently by a\n",
    "key.\n",
    "\n",
    "Dictionaries are unordered. This means that the items in a dictionary do not have a defined\n",
    "order, and their order may change when the dictionary is modified. This is in contrast to ordered\n",
    "collections, such as lists or tuples, which maintain a specific order of elements."
   ]
  },
  {
   "cell_type": "code",
   "execution_count": 20,
   "id": "4e152fe4-1e7e-4a0c-8fd1-db60b9b567ef",
   "metadata": {},
   "outputs": [
    {
     "name": "stdout",
     "output_type": "stream",
     "text": [
      "{1: 'One', 2: 'Two', 3: 'Three'}\n"
     ]
    }
   ],
   "source": [
    "#dictionary example\n",
    "\n",
    "numbers = {1: \"One\", 2: \"Two\", 3: \"Three\"}\n",
    "print(numbers)"
   ]
  },
  {
   "cell_type": "markdown",
   "id": "01b39574-384f-492c-97c3-b7b559bdf88a",
   "metadata": {},
   "source": [
    "6.Can we create a nested dictionary? If so, please give an example by creating\n",
    "a simple one-level nested dictionary.\n",
    "\n",
    "Yes, we can create a nested dictionary in which a value in the dictionary is itself a dictionary. This\n",
    "is known as a one-level nested dictionary."
   ]
  },
  {
   "cell_type": "code",
   "execution_count": 21,
   "id": "366b3ba3-28bd-4cf9-9f47-ed280ef4f9f8",
   "metadata": {},
   "outputs": [],
   "source": [
    "employee_info = {\"Shivakumar\": {\"age\": 42,\"department\": \"finance\",\"position\":\"Manager\"},\n",
    "\"Krishna s\": {\"age\": 37,\"department\": \"Human resources\",\"position\":\"Associate\"}}"
   ]
  },
  {
   "cell_type": "code",
   "execution_count": 24,
   "id": "15004b1b-16ea-409a-b877-0b82271c41f5",
   "metadata": {},
   "outputs": [
    {
     "data": {
      "text/plain": [
       "{'age': 42, 'department': 'finance', 'position': 'Manager'}"
      ]
     },
     "execution_count": 24,
     "metadata": {},
     "output_type": "execute_result"
    }
   ],
   "source": [
    "Shivakumar_info=employee_info[\"Shivakumar\"]\n",
    "Shivakumar_info"
   ]
  },
  {
   "cell_type": "code",
   "execution_count": 27,
   "id": "ef251295-6d96-4bb4-9517-d3032ebe5cca",
   "metadata": {},
   "outputs": [
    {
     "data": {
      "text/plain": [
       "{'age': 37, 'department': 'Human resources', 'position': 'Associate'}"
      ]
     },
     "execution_count": 27,
     "metadata": {},
     "output_type": "execute_result"
    }
   ],
   "source": [
    "Krishna_s_info=employee_info[\"Krishna s\"]\n",
    "Krishna_s_info"
   ]
  },
  {
   "cell_type": "markdown",
   "id": "c685520c-6f44-4977-8100-2f7b8053d162",
   "metadata": {},
   "source": [
    "7.Using setdefault() method, create key named topics in the given dictionary\n",
    "and also add the value of the key as this list [‘Python’, ‘Machine Learning’,\n",
    "‘Deep Learning’]\n",
    "\n",
    "dict1 = {‘language’ : ‘Python’, ‘course’: ‘Data Science Masters’}"
   ]
  },
  {
   "cell_type": "code",
   "execution_count": 28,
   "id": "bc996cf5-5f79-45d7-ae8a-51233c2ee0da",
   "metadata": {},
   "outputs": [
    {
     "name": "stdout",
     "output_type": "stream",
     "text": [
      "{'language': 'Python', 'course': 'Data Science Masters', 'topics': ['Python', 'Machine Learning', 'Deep Learning']}\n"
     ]
    }
   ],
   "source": [
    "dict1 = {'language' : 'Python', 'course': 'Data Science Masters'}\n",
    "dict1.setdefault('topics',['Python','Machine Learning','Deep Learning'])\n",
    "print(dict1)"
   ]
  },
  {
   "cell_type": "markdown",
   "id": "3f8cc3d8-7812-45e6-8c8c-d53e2df59cdf",
   "metadata": {},
   "source": [
    "8.What are the three view objects in dictionaries? Use the three in-built\n",
    "methods in python to display these three view objects for the given dictionary.\n",
    "\n",
    "dict1 = {‘Sport’: ‘Cricket’ , ‘Teams’: [‘India’, ‘Australia’, ‘England’, ‘South\n",
    "Africa’, ‘Sri Lanka’, ‘New Zealand’]}\n",
    "\n",
    "Dictionary has 3 view objects:\n",
    "1.keys() \n",
    "2.values() \n",
    "3.items()\n",
    "\n",
    "1.The keys() view object returns a view of all the keys in the dictionary,\n",
    "2.Values() view objectreturns a view of all the values in the dictionary\n",
    "3.Items() view object returns a view of all the key-value pairs in the dictionary as tuples.\n",
    "\n"
   ]
  },
  {
   "cell_type": "code",
   "execution_count": 30,
   "id": "97c18912-a382-45e5-9e0c-1ef15f962e73",
   "metadata": {},
   "outputs": [
    {
     "name": "stdout",
     "output_type": "stream",
     "text": [
      "dict_keys(['Sport', 'Teams'])\n",
      "dict_values(['Cricket', ['India', 'Australia', 'England', 'South␣Africa', 'Sri Lanka', 'New Zealand']])\n",
      "dict_items([('Sport', 'Cricket'), ('Teams', ['India', 'Australia', 'England', 'South␣Africa', 'Sri Lanka', 'New Zealand'])])\n"
     ]
    }
   ],
   "source": [
    "dict1 = {'Sport': 'Cricket' , 'Teams': ['India', 'Australia', 'England', 'South␣Africa', 'Sri Lanka', 'New Zealand']}\n",
    "\n",
    "print(dict1.keys())\n",
    "\n",
    "print(dict1.values())\n",
    "\n",
    "print(dict1.items())"
   ]
  },
  {
   "cell_type": "code",
   "execution_count": null,
   "id": "0bcff141-deb4-4e1c-8830-0f6d417629f3",
   "metadata": {},
   "outputs": [],
   "source": []
  }
 ],
 "metadata": {
  "kernelspec": {
   "display_name": "Python 3 (ipykernel)",
   "language": "python",
   "name": "python3"
  },
  "language_info": {
   "codemirror_mode": {
    "name": "ipython",
    "version": 3
   },
   "file_extension": ".py",
   "mimetype": "text/x-python",
   "name": "python",
   "nbconvert_exporter": "python",
   "pygments_lexer": "ipython3",
   "version": "3.10.8"
  }
 },
 "nbformat": 4,
 "nbformat_minor": 5
}
