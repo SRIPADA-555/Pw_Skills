{
 "cells": [
  {
   "cell_type": "markdown",
   "id": "fd14cd43-e7d2-418c-b552-0bb17f281d13",
   "metadata": {},
   "source": [
    "1.You are writing code for a company. The requirement of the company is that you create a python\n",
    "function that will check whether the password entered by the user is correct or not. The function should\n",
    "take the password as input and return the string “Valid Password” if the entered password follows the\n",
    "below-given password guidelines else it should return “Invalid Password”."
   ]
  },
  {
   "cell_type": "code",
   "execution_count": 2,
   "id": "51f3e3a7-0044-43d7-8b99-e222528f659d",
   "metadata": {},
   "outputs": [],
   "source": [
    "def checkPassword():\n",
    "    n=input(\"Enter your password\")\n",
    "    l=len(n)\n",
    "    countLower=0\n",
    "    countUpper=0\n",
    "    countDigit=0\n",
    "    countSpecialCharacter=0\n",
    "    for i in n:\n",
    "        if i.islower()==True:\n",
    "            countLower+=1\n",
    "        elif i.isupper()==True:\n",
    "            countUpper+=1\n",
    "        elif i.isdigit()==True:\n",
    "            countDigit+=1\n",
    "        elif i.isalpha()==False and i.isdigit()==False:\n",
    "            countSpecialCharacter+=1\n",
    "        else:\n",
    "            pass\n",
    "\n",
    "    if countLower>=2 and countUpper>=2 and countDigit>=1 and countSpecialCharacter>=3 and l>=10:\n",
    "        print(\"Valid Password\")\n",
    "    else:\n",
    "        print(\"Invalid Password\")"
   ]
  },
  {
   "cell_type": "code",
   "execution_count": 3,
   "id": "72fa4e1b-1e08-4a18-b306-29d303879785",
   "metadata": {},
   "outputs": [
    {
     "name": "stdin",
     "output_type": "stream",
     "text": [
      "Enter your password SRipadarao1@#$\n"
     ]
    },
    {
     "name": "stdout",
     "output_type": "stream",
     "text": [
      "Valid Password\n"
     ]
    }
   ],
   "source": [
    "checkPassword()"
   ]
  },
  {
   "cell_type": "code",
   "execution_count": 4,
   "id": "be32d27f-ca24-4a71-b6a5-4834d886588d",
   "metadata": {},
   "outputs": [
    {
     "name": "stdin",
     "output_type": "stream",
     "text": [
      "Enter your password sripadaro555\n"
     ]
    },
    {
     "name": "stdout",
     "output_type": "stream",
     "text": [
      "Invalid Password\n"
     ]
    }
   ],
   "source": [
    "checkPassword()"
   ]
  },
  {
   "cell_type": "markdown",
   "id": "e0cf58e3-ffe3-4120-a4cc-ae8369d854b4",
   "metadata": {},
   "source": [
    "Q2. Solve the below-given questions using at least one of the following:\n",
    "1. Lambda function\n",
    "2. Filter function\n",
    "3. Zap function\n",
    "4. List Comprehension"
   ]
  },
  {
   "cell_type": "code",
   "execution_count": 1,
   "id": "7e8cab61-1ad9-4dfe-967d-dec9c3bb2561",
   "metadata": {},
   "outputs": [
    {
     "data": {
      "text/plain": [
       "True"
      ]
     },
     "execution_count": 1,
     "metadata": {},
     "output_type": "execute_result"
    }
   ],
   "source": [
    "#Check if the string starts with a particular letter\n",
    "s=\"Today is a good day\"\n",
    "bool(lambda s:s.startswith(\"Today\"))"
   ]
  },
  {
   "cell_type": "code",
   "execution_count": 2,
   "id": "292ff914-f4ab-4807-bb16-65a78fc787bf",
   "metadata": {},
   "outputs": [
    {
     "data": {
      "text/plain": [
       "True"
      ]
     },
     "execution_count": 2,
     "metadata": {},
     "output_type": "execute_result"
    }
   ],
   "source": [
    "# Check if the string is numeric\n",
    "s='1234'\n",
    "bool(lambda s:s.isnumeric())"
   ]
  },
  {
   "cell_type": "code",
   "execution_count": 5,
   "id": "c3ad3da9-d82b-4e8e-b315-b49fdcd6993e",
   "metadata": {},
   "outputs": [],
   "source": [
    "#Sort a list of tuples having fruit names and their quantity. [(\"mango\",99),(\"orange\",80), (\"grapes\", 1000).\n",
    "l=[(\"mango\",99),(\"orange\",80), (\"grapes\", 1000)]"
   ]
  },
  {
   "cell_type": "code",
   "execution_count": 6,
   "id": "5132dc4b-e245-4f2a-9c25-e42f6b23521c",
   "metadata": {},
   "outputs": [
    {
     "data": {
      "text/plain": [
       "<function __main__.<lambda>(l)>"
      ]
     },
     "execution_count": 6,
     "metadata": {},
     "output_type": "execute_result"
    }
   ],
   "source": [
    "lambda l : l.sort()"
   ]
  },
  {
   "cell_type": "code",
   "execution_count": 7,
   "id": "727ca1ea-ae63-4247-aa5c-1ee08258bb61",
   "metadata": {},
   "outputs": [
    {
     "data": {
      "text/plain": [
       "[('mango', 99), ('orange', 80), ('grapes', 1000)]"
      ]
     },
     "execution_count": 7,
     "metadata": {},
     "output_type": "execute_result"
    }
   ],
   "source": [
    "l"
   ]
  },
  {
   "cell_type": "code",
   "execution_count": 8,
   "id": "3d553b4f-e86e-45df-89bb-811362de558a",
   "metadata": {},
   "outputs": [
    {
     "data": {
      "text/plain": [
       "[1, 8, 27, 64, 125, 216, 343, 512, 729, 1000]"
      ]
     },
     "execution_count": 8,
     "metadata": {},
     "output_type": "execute_result"
    }
   ],
   "source": [
    "#Find the cube root of numbers from 1 to 10.\n",
    "l=list(range(1,11))\n",
    "list(map(lambda x : x**3,l))"
   ]
  },
  {
   "cell_type": "code",
   "execution_count": 9,
   "id": "0a135a30-b43f-4f8b-86a8-11203ed92ca9",
   "metadata": {},
   "outputs": [
    {
     "data": {
      "text/plain": [
       "[2, 68, 76, 4, 8]"
      ]
     },
     "execution_count": 9,
     "metadata": {},
     "output_type": "execute_result"
    }
   ],
   "source": [
    "# Check if a given number is even.\n",
    "l=[1,3,2,5,68,76,4,8,9]\n",
    "a=[x for x in l if x%2==0]\n",
    "a"
   ]
  },
  {
   "cell_type": "code",
   "execution_count": null,
   "id": "687abb41-50a7-46b0-9f76-a3a684832f18",
   "metadata": {},
   "outputs": [],
   "source": []
  }
 ],
 "metadata": {
  "kernelspec": {
   "display_name": "Python 3 (ipykernel)",
   "language": "python",
   "name": "python3"
  },
  "language_info": {
   "codemirror_mode": {
    "name": "ipython",
    "version": 3
   },
   "file_extension": ".py",
   "mimetype": "text/x-python",
   "name": "python",
   "nbconvert_exporter": "python",
   "pygments_lexer": "ipython3",
   "version": "3.10.8"
  }
 },
 "nbformat": 4,
 "nbformat_minor": 5
}
