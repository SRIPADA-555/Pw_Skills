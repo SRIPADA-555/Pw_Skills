{
 "cells": [
  {
   "cell_type": "markdown",
   "id": "dcb964d5-6f5f-4d7d-9aa3-5e1c6441a4e4",
   "metadata": {},
   "source": [
    "Q1, Create a vehicle class with an init method having\n",
    "instance variables as name_of_vehicle, max_speed and\n",
    "average_of_vehicle."
   ]
  },
  {
   "cell_type": "code",
   "execution_count": 1,
   "id": "5ee0d29f-4b07-43b8-b09e-fb6960091520",
   "metadata": {},
   "outputs": [],
   "source": [
    "class vechile:\n",
    "     def __init__(self,name,speed,avg):\n",
    "            self.name=name\n",
    "            self.speed=speed\n",
    "            self.avg=avg"
   ]
  },
  {
   "cell_type": "code",
   "execution_count": 2,
   "id": "941c7c0d-2e98-4cd1-8e60-385167613c7f",
   "metadata": {},
   "outputs": [],
   "source": [
    "ob=vechile(\"Toyota\",100,120)\n"
   ]
  },
  {
   "cell_type": "code",
   "execution_count": 3,
   "id": "60eb3886-a5f8-4ab3-822a-94a7adb25573",
   "metadata": {},
   "outputs": [
    {
     "data": {
      "text/plain": [
       "'Toyota'"
      ]
     },
     "execution_count": 3,
     "metadata": {},
     "output_type": "execute_result"
    }
   ],
   "source": [
    "ob.name\n"
   ]
  },
  {
   "cell_type": "code",
   "execution_count": 4,
   "id": "b3652583-703b-492c-b2e2-22535481edb2",
   "metadata": {},
   "outputs": [
    {
     "data": {
      "text/plain": [
       "100"
      ]
     },
     "execution_count": 4,
     "metadata": {},
     "output_type": "execute_result"
    }
   ],
   "source": [
    "ob.speed\n"
   ]
  },
  {
   "cell_type": "code",
   "execution_count": 5,
   "id": "5e557a91-09a8-441b-b5f0-4f53455efba9",
   "metadata": {},
   "outputs": [
    {
     "data": {
      "text/plain": [
       "120"
      ]
     },
     "execution_count": 5,
     "metadata": {},
     "output_type": "execute_result"
    }
   ],
   "source": [
    "ob.avg\n",
    "\n"
   ]
  },
  {
   "cell_type": "code",
   "execution_count": 6,
   "id": "5c5e2cb8-8928-4721-a50f-fe9079cf058c",
   "metadata": {},
   "outputs": [],
   "source": [
    "ob.name=\"Ford\"\n"
   ]
  },
  {
   "cell_type": "code",
   "execution_count": 7,
   "id": "0cb79e14-dba0-4b63-a17e-1b60d1218b51",
   "metadata": {},
   "outputs": [
    {
     "data": {
      "text/plain": [
       "'Ford'"
      ]
     },
     "execution_count": 7,
     "metadata": {},
     "output_type": "execute_result"
    }
   ],
   "source": [
    "ob.name"
   ]
  },
  {
   "cell_type": "markdown",
   "id": "4f2d0588-bbc4-46f2-95ea-ee94eac0d387",
   "metadata": {},
   "source": [
    "Q2. Create a child class car from the vehicle class\n",
    "created in Que 1, which will inherit the vehicle class. Create a method named seating_capacity which takes capacity as an argument and returns the name of the\n",
    "vehicle and its seating capacity.\n"
   ]
  },
  {
   "cell_type": "code",
   "execution_count": 10,
   "id": "37224bab-2b37-4b2e-ba7a-8600c8951d54",
   "metadata": {},
   "outputs": [],
   "source": [
    "class child(vechile):\n",
    "      def seating_capacity(self,seating_capacity):\n",
    "        return \"name of vechile is \"+str(self.name)+\" and capacity is \"+str(seating_capacity)"
   ]
  },
  {
   "cell_type": "code",
   "execution_count": 11,
   "id": "6f0adea0-45e2-49fd-aa55-c991d4f5c494",
   "metadata": {},
   "outputs": [],
   "source": [
    "ob2=child(\"Toyota\",120,130)\n"
   ]
  },
  {
   "cell_type": "code",
   "execution_count": 12,
   "id": "8c511f34-8c7b-4ed8-b28d-befb90944ee9",
   "metadata": {},
   "outputs": [
    {
     "data": {
      "text/plain": [
       "'name of vechile is Toyota and capacity is 6'"
      ]
     },
     "execution_count": 12,
     "metadata": {},
     "output_type": "execute_result"
    }
   ],
   "source": [
    "ob2.seating_capacity(6)\n"
   ]
  },
  {
   "cell_type": "markdown",
   "id": "04a916f1-254f-4796-ad1e-64c654b337e1",
   "metadata": {},
   "source": [
    "Q3. What is multiple inheritance? Write a python code to\n",
    "demonstrate multiple inheritance."
   ]
  },
  {
   "cell_type": "code",
   "execution_count": 13,
   "id": "fc7d71a2-e458-4d23-9b99-293b075ee9c7",
   "metadata": {},
   "outputs": [],
   "source": [
    "class A:\n",
    "    def AO(self):\n",
    "        print(\"This is A\")\n",
    "class B:\n",
    "     def BO(self):\n",
    "            print(\"This is B\")\n",
    "class C(A,B):\n",
    "    pass"
   ]
  },
  {
   "cell_type": "code",
   "execution_count": 14,
   "id": "20ad83ba-fd74-4810-ab02-dad97f648083",
   "metadata": {},
   "outputs": [],
   "source": [
    "ob2=C()\n"
   ]
  },
  {
   "cell_type": "code",
   "execution_count": 15,
   "id": "2149f749-e760-46c7-b20f-1d8f2d643f0e",
   "metadata": {},
   "outputs": [
    {
     "name": "stdout",
     "output_type": "stream",
     "text": [
      "This is A\n"
     ]
    }
   ],
   "source": [
    "ob2.AO()"
   ]
  },
  {
   "cell_type": "code",
   "execution_count": 16,
   "id": "54fa577b-9bc1-467c-ab66-dd0f4ffa9680",
   "metadata": {},
   "outputs": [
    {
     "name": "stdout",
     "output_type": "stream",
     "text": [
      "This is B\n"
     ]
    }
   ],
   "source": [
    "ob2.BO()"
   ]
  },
  {
   "cell_type": "markdown",
   "id": "8891cde1-2379-410c-92a1-84e4b2ec3758",
   "metadata": {},
   "source": [
    "Q4. What are getter and setter in python? Create a class\n",
    "and create a getter and a setter method in this class.\n"
   ]
  },
  {
   "cell_type": "code",
   "execution_count": 17,
   "id": "4b8399eb-a962-4284-b4cd-1d8037e8f63c",
   "metadata": {},
   "outputs": [],
   "source": [
    "class class1:\n",
    "    def __init__(self,make,model,speed):\n",
    "        self.make=make\n",
    "        self.model=model\n",
    "        self.speed=speed\n",
    "    def get_speed(self):\n",
    "        return self.speed\n",
    "    def set_speed(self,spd):\n",
    "        self.speed=spd\n"
   ]
  },
  {
   "cell_type": "code",
   "execution_count": 18,
   "id": "63cbb72b-ef7e-43e0-b590-1cccc5a89866",
   "metadata": {},
   "outputs": [],
   "source": [
    "ob=class1(\"BMW\",3.0,190)\n"
   ]
  },
  {
   "cell_type": "code",
   "execution_count": 19,
   "id": "e3585f8b-d507-456a-80be-bf3ff8ac790c",
   "metadata": {},
   "outputs": [
    {
     "data": {
      "text/plain": [
       "190"
      ]
     },
     "execution_count": 19,
     "metadata": {},
     "output_type": "execute_result"
    }
   ],
   "source": [
    "ob.get_speed()\n"
   ]
  },
  {
   "cell_type": "code",
   "execution_count": 20,
   "id": "ad5c8f4f-f55d-42dc-8e8e-785638e55e9b",
   "metadata": {},
   "outputs": [],
   "source": [
    "ob.set_speed(150)"
   ]
  },
  {
   "cell_type": "code",
   "execution_count": 21,
   "id": "ab08b2ab-c22a-4231-b8c0-54f2d432e959",
   "metadata": {},
   "outputs": [
    {
     "data": {
      "text/plain": [
       "150"
      ]
     },
     "execution_count": 21,
     "metadata": {},
     "output_type": "execute_result"
    }
   ],
   "source": [
    "ob.get_speed()\n"
   ]
  },
  {
   "cell_type": "markdown",
   "id": "16dc9a82-a28f-4248-999c-4c140a691db1",
   "metadata": {},
   "source": [
    "Q5.What is method overriding in python? Write a python\n",
    "code to demonstrate method overriding.\n"
   ]
  },
  {
   "cell_type": "code",
   "execution_count": 22,
   "id": "e49b0105-dc37-42b6-a83b-2b7fb6c539e4",
   "metadata": {},
   "outputs": [],
   "source": [
    "class classA:\n",
    "    def out(self):\n",
    "         return \"This is class A Output\"\n",
    "class classB(classA):\n",
    "    def out(self):\n",
    "        return \"This is class B Output\"\n"
   ]
  },
  {
   "cell_type": "code",
   "execution_count": 23,
   "id": "bf62ae4b-dff5-438d-b8c2-ac09672af236",
   "metadata": {},
   "outputs": [],
   "source": [
    "ob=classB()\n"
   ]
  },
  {
   "cell_type": "code",
   "execution_count": 24,
   "id": "40d9370c-5302-4ce9-bcd0-fea204c1a632",
   "metadata": {},
   "outputs": [
    {
     "data": {
      "text/plain": [
       "'This is class B Output'"
      ]
     },
     "execution_count": 24,
     "metadata": {},
     "output_type": "execute_result"
    }
   ],
   "source": [
    "ob.out()"
   ]
  },
  {
   "cell_type": "code",
   "execution_count": null,
   "id": "c610db4b-9a09-4761-9112-cae110c07254",
   "metadata": {},
   "outputs": [],
   "source": []
  }
 ],
 "metadata": {
  "kernelspec": {
   "display_name": "Python 3 (ipykernel)",
   "language": "python",
   "name": "python3"
  },
  "language_info": {
   "codemirror_mode": {
    "name": "ipython",
    "version": 3
   },
   "file_extension": ".py",
   "mimetype": "text/x-python",
   "name": "python",
   "nbconvert_exporter": "python",
   "pygments_lexer": "ipython3",
   "version": "3.10.8"
  }
 },
 "nbformat": 4,
 "nbformat_minor": 5
}
